{
 "cells": [
  {
   "cell_type": "markdown",
   "metadata": {},
   "source": [
    "**Collecting Parameter**: an object that you pass to methods in order to collect info from those methods."
   ]
  },
  {
   "cell_type": "markdown",
   "metadata": {},
   "source": [
    "Collecting Parameter Pattern allows us to refactor a bulky method in which the results of multiple operations are collected in a single variable"
   ]
  },
  {
   "cell_type": "markdown",
   "metadata": {},
   "source": [
    "Example 1:\n",
    "\n",
    "```python\n",
    "results = {}\n",
    "\n",
    "image_loader.process(results)   # write to results\n",
    "detector.process(results)       # write to results\n",
    "```\n",
    "\n",
    "Example 2:\n",
    "\n",
    "```python\n",
    "results = []\n",
    "\n",
    "source_A.collect_results(results)   # append to results\n",
    "source_B.collect_results(results)   # append to results\n",
    "```"
   ]
  },
  {
   "cell_type": "markdown",
   "metadata": {},
   "source": [
    "**Question**: Isn't it usually easier to understand code when functions/methods return a value rather than modify a parameter?"
   ]
  }
 ],
 "metadata": {
  "kernelspec": {
   "display_name": ".venv",
   "language": "python",
   "name": "python3"
  },
  "language_info": {
   "name": "python",
   "version": "3.10.12"
  }
 },
 "nbformat": 4,
 "nbformat_minor": 2
}
