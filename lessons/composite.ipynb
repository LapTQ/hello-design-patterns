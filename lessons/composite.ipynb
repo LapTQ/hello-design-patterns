{
 "cells": [
  {
   "cell_type": "markdown",
   "metadata": {},
   "source": [
    "**Composite** is a structural design pattern that lets you compose objects into tree structures and then work with these structures as if they were individual objects."
   ]
  },
  {
   "cell_type": "markdown",
   "metadata": {},
   "source": [
    "It is particularly useful when you need to work with recursive tree structures, such as representing arithmetic expressions, file directories, or organizational hierarchies."
   ]
  },
  {
   "cell_type": "markdown",
   "metadata": {},
   "source": [
    "How to implement:\n",
    "1. Declare the common interface for both simple and complex components."
   ]
  },
  {
   "cell_type": "code",
   "execution_count": 11,
   "metadata": {},
   "outputs": [
    {
     "data": {
      "text/plain": [
       "6"
      ]
     },
     "execution_count": 11,
     "metadata": {},
     "output_type": "execute_result"
    }
   ],
   "source": [
    "from abc import ABC, abstractmethod\n",
    "\n",
    "\n",
    "class Expression(ABC):\n",
    "\n",
    "    @abstractmethod\n",
    "    def reduce(self):\n",
    "        pass\n",
    "\n",
    "    @abstractmethod\n",
    "    def add(self):\n",
    "        pass\n",
    "\n",
    "\n",
    "class Number(Expression):\n",
    "\n",
    "    def __init__(self, value):\n",
    "        self.value = value\n",
    "\n",
    "    def reduce(self):    # -> Number\n",
    "        return Number(self.value)\n",
    "    \n",
    "    def add(self, other: Expression) -> Expression:\n",
    "        return Sum(self, other)\n",
    "    \n",
    "    def __repr__(self):\n",
    "        return str(self.value)\n",
    "    \n",
    "\n",
    "class Sum(Expression):\n",
    "\n",
    "    def __init__(self, left: Expression, right: Expression):\n",
    "        self.left = left\n",
    "        self.right = right\n",
    "\n",
    "    def reduce(self) -> Number:\n",
    "        return Number(self.left.reduce().value + self.right.reduce().value)\n",
    "    \n",
    "    def add(self, other: Expression) -> Expression:\n",
    "        return Sum(self, other)\n",
    "    \n",
    "\n",
    "Sum(Number(3), Sum(Number(2), Number(1))).reduce()"
   ]
  }
 ],
 "metadata": {
  "kernelspec": {
   "display_name": ".venv",
   "language": "python",
   "name": "python3"
  },
  "language_info": {
   "codemirror_mode": {
    "name": "ipython",
    "version": 3
   },
   "file_extension": ".py",
   "mimetype": "text/x-python",
   "name": "python",
   "nbconvert_exporter": "python",
   "pygments_lexer": "ipython3",
   "version": "3.10.12"
  }
 },
 "nbformat": 4,
 "nbformat_minor": 2
}
