{
 "cells": [
  {
   "cell_type": "markdown",
   "metadata": {},
   "source": [
    "Normally, when we want to create an object, we do it via a constructor:\n",
    "\n",
    "```python\n",
    "button = WinButton()\n",
    "```\n",
    "\n",
    "When we need to create many objects, we repeat the constructor call at many places in our source code.\n",
    "\n",
    "However, imageine one day we want to support Mac, so we have to modify all the places where we create `WinButton` above as follow:\n",
    "\n",
    "```python\n",
    "if platform == 'win':\n",
    "    button = WinButton()\n",
    "else:\n",
    "    button = MacButton()\n",
    "```"
   ]
  },
  {
   "cell_type": "markdown",
   "metadata": {},
   "source": [
    "This is not good. The ***Factory Method*** pattern suggests us to wrap the contructor call in a method:\n",
    "\n",
    "```python\n",
    "# define once\n",
    "if platform == 'win':\n",
    "    factory = WinFactory()\n",
    "else:\n",
    "    factory = MacFactory()\n",
    "\n",
    "# then we can create at many places\n",
    "button = factory.create_button()\n",
    "```"
   ]
  },
  {
   "cell_type": "code",
   "execution_count": 1,
   "metadata": {},
   "outputs": [],
   "source": [
    "from abc import ABC, abstractmethod\n",
    "\n",
    "class FactoryBase(ABC):\n",
    "\n",
    "    @abstractmethod\n",
    "    def create_button(self):\n",
    "        pass\n",
    "    \n",
    "    @abstractmethod\n",
    "    def create_checkbox(self):\n",
    "        pass\n",
    "\n",
    "class WinFactory(FactoryBase):\n",
    "\n",
    "    def create_button(self):\n",
    "        return WinButton()\n",
    "    \n",
    "    def create_checkbox(self):\n",
    "        return WinCheckbox()\n",
    "    \n",
    "class MacFactory(FactoryBase):\n",
    "\n",
    "    def create_button(self):\n",
    "        return MacButton()\n",
    "    \n",
    "    def create_checkbox(self):\n",
    "        return MacCheckbox()\n",
    "\n",
    "class Button(ABC):\n",
    "    pass\n",
    "\n",
    "class WinButton(Button):    # must follow the same interface\n",
    "    pass\n",
    "\n",
    "class MacButton(Button):    # must follow the same interface\n",
    "    pass\n",
    "\n",
    "class Checkbox(ABC):\n",
    "    pass\n",
    "\n",
    "class WinCheckbox(Checkbox):\n",
    "    pass\n",
    "\n",
    "class MacCheckbox(Checkbox):\n",
    "    pass"
   ]
  },
  {
   "cell_type": "markdown",
   "metadata": {},
   "source": [
    "> [!TIP]\n",
    "> When?\n",
    ">\n",
    "> Avoid code duplication:\n",
    "> 1. Several classes doing the same job, and the implementations for that job are different (e.g., inference using PyTorch vs TensorRT)."
   ]
  }
 ],
 "metadata": {
  "kernelspec": {
   "display_name": ".venv",
   "language": "python",
   "name": "python3"
  },
  "language_info": {
   "codemirror_mode": {
    "name": "ipython",
    "version": 3
   },
   "file_extension": ".py",
   "mimetype": "text/x-python",
   "name": "python",
   "nbconvert_exporter": "python",
   "pygments_lexer": "ipython3",
   "version": "3.10.12"
  }
 },
 "nbformat": 4,
 "nbformat_minor": 2
}
