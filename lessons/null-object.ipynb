{
 "cells": [
  {
   "cell_type": "markdown",
   "metadata": {},
   "source": [
    "How do you represent special cases using objects? Create an object representing the special case. Give it the same protocol as the regular objects."
   ]
  },
  {
   "cell_type": "markdown",
   "metadata": {},
   "source": [
    "For example:\n",
    "\n",
    "```python\n",
    "# do something\n",
    "if logger is not None:\n",
    "    logger.log(\"message\")\n",
    "# do something else\n",
    "```"
   ]
  },
  {
   "cell_type": "markdown",
   "metadata": {},
   "source": [
    "In the above code, we have to check for a special case where `logger` is `None`."
   ]
  },
  {
   "cell_type": "markdown",
   "metadata": {},
   "source": [
    "There is an alternative way to handle this case without having to check for it:\n",
    "\n",
    "```python\n",
    "class NullLogger:\n",
    "    def log(self, message):\n",
    "        pass\n",
    "\n",
    "# do something\n",
    "logger.log(\"message\")\n",
    "# do something else\n",
    "```"
   ]
  }
 ],
 "metadata": {
  "language_info": {
   "name": "python"
  }
 },
 "nbformat": 4,
 "nbformat_minor": 2
}
