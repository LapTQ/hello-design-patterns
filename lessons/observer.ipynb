{
 "cells": [
  {
   "cell_type": "markdown",
   "metadata": {},
   "source": [
    "> [!TIP]\n",
    "> When?\n",
    "> \n",
    "> get notified about any events that happen to the object they're observing."
   ]
  },
  {
   "cell_type": "markdown",
   "metadata": {},
   "source": [
    "Example:\n",
    "\n",
    "* YouTube subscriptions: when a user subscribes to a channel, they get notified about new videos instead of having to check the channel manually."
   ]
  },
  {
   "cell_type": "markdown",
   "metadata": {},
   "source": [
    "The object that notifies other objects about the change to its state is called ***publisher***.\n",
    "\n",
    "The objects that want to track changes to the publisher's state are called ***subscribers***."
   ]
  },
  {
   "cell_type": "markdown",
   "metadata": {},
   "source": [
    "In the following example, the Observer pattern let the text editor object notify other service objects about changes in its state."
   ]
  },
  {
   "cell_type": "markdown",
   "metadata": {},
   "source": [
    "![](../assets/observer-example.png)"
   ]
  },
  {
   "cell_type": "code",
   "execution_count": 1,
   "metadata": {},
   "outputs": [
    {
     "name": "stdout",
     "output_type": "stream",
     "text": [
      "[SENDING EMAIL]: Someone opened path/to/file\n",
      "[SENDING EMAIL]: Someone opened path/to/file\n"
     ]
    }
   ],
   "source": [
    "from abc import ABC, abstractmethod\n",
    "\n",
    "\n",
    "class EventManager:\n",
    "\n",
    "    EVENT_OPEN = 1\n",
    "    EVENT_SAVE = 2\n",
    "\n",
    "    def __init__(self):\n",
    "        self.listeners = {}\n",
    "\n",
    "    def subscribe(self, event_type, listener):\n",
    "        if event_type not in self.listeners:\n",
    "            self.listeners[event_type] = []\n",
    "        self.listeners[event_type].append(listener)\n",
    "\n",
    "    def notify(self, event_type, event_data):\n",
    "        if event_type in self.listeners:\n",
    "            for listener in self.listeners[event_type]:\n",
    "                listener.update(event_data)\n",
    "\n",
    "\n",
    "class CEditor: # Controller, also the publisher\n",
    "\n",
    "    def __init__(\n",
    "            self, \n",
    "            event_manager: EventManager\n",
    "    ):\n",
    "        self.event_manager = event_manager\n",
    "\n",
    "    def open_file(self, filepath):\n",
    "        # do opening task here ...\n",
    "        self.event_manager.notify(\n",
    "            event_type=EventManager.EVENT_OPEN,\n",
    "            event_data=filepath,\n",
    "        )\n",
    "\n",
    "    def save_file(self, filepath):\n",
    "        # do saving task here\n",
    "        self.event_manager.notify(\n",
    "            event_type=EventManager.EVENT_SAVE,\n",
    "            event_data=filepath,\n",
    "        )\n",
    "\n",
    "\n",
    "class VEditor:  # View\n",
    "\n",
    "    def __init__(\n",
    "            self,\n",
    "            controller: CEditor,\n",
    "    ):\n",
    "        self.controller = controller\n",
    "\n",
    "        while True:\n",
    "            action = input(\"\"\"What do you want to do: \n",
    "                1. open file\n",
    "                2. save file\n",
    "                q. Quit\n",
    "                \"\"\"\n",
    "            )\n",
    "            if action == \"1\":\n",
    "                self.open_file()\n",
    "            elif action == \"2\":\n",
    "                self.save_file()\n",
    "            elif action == \"q\":\n",
    "                break\n",
    "\n",
    "    def open_file(self):\n",
    "        self.controller.open_file(\"path/to/file\")\n",
    "        \n",
    "    def save_file(self):\n",
    "        self.controller.save_file(\"new/path/to/file\")\n",
    "\n",
    "\n",
    "class EventListener(ABC):    # Interface\n",
    "\n",
    "    @abstractmethod\n",
    "    def update(self, event_data):\n",
    "        pass\n",
    "\n",
    "\n",
    "class EmailAlertsListener(EventListener): # implement interface, also a subscriber\n",
    "\n",
    "    def update(self, filepath):\n",
    "        print('[SENDING EMAIL]: Someone opened {}'.format(filepath))\n",
    "\n",
    "\n",
    "if __name__ == \"__main__\":\n",
    "\n",
    "    event_manager = EventManager()\n",
    "    email_alert = EmailAlertsListener()\n",
    "\n",
    "    event_manager.subscribe(\n",
    "        event_type=EventManager.EVENT_OPEN,\n",
    "        listener=email_alert\n",
    "    )\n",
    "    # can subsribe the email_alert to EVENT_SAVE as well\n",
    "\n",
    "    controller = CEditor(event_manager)\n",
    "\n",
    "    VEditor(controller)\n",
    "    \n",
    "\n"
   ]
  },
  {
   "cell_type": "markdown",
   "metadata": {},
   "source": [
    "In the above diagram and code, the editor class (i.e., the publisher) does not maintain the subscription list. Instead, it delegates this responsibility to a separate object called the `EventManager`.\n",
    "\n",
    "You can upgrade the `EventManager` to serve as a centralized event dispatcher, letting any object act as a publisher. "
   ]
  },
  {
   "cell_type": "markdown",
   "metadata": {},
   "source": [
    "# References\n",
    "\n",
    "1. https://refactoring.guru/design-patterns/observer"
   ]
  }
 ],
 "metadata": {
  "kernelspec": {
   "display_name": ".venv",
   "language": "python",
   "name": "python3"
  },
  "language_info": {
   "codemirror_mode": {
    "name": "ipython",
    "version": 3
   },
   "file_extension": ".py",
   "mimetype": "text/x-python",
   "name": "python",
   "nbconvert_exporter": "python",
   "pygments_lexer": "ipython3",
   "version": "3.10.12"
  }
 },
 "nbformat": 4,
 "nbformat_minor": 2
}
