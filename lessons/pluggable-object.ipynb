{
 "cells": [
  {
   "cell_type": "markdown",
   "metadata": {},
   "source": [
    "> [!TIP]\n",
    "> When?\n",
    "> \n",
    "> ***Pluggable Object*** is used to avoid ugly duplicated conditional (duplicated if-else)."
   ]
  },
  {
   "cell_type": "markdown",
   "metadata": {},
   "source": [
    "Example: When writing a graphics editor,\n",
    "selection is actually a bit complicated. If you’re over a figure when you press the\n",
    "mouse button, then subsequent moves of the mouse move that figure and\n",
    "releasing the mouse button leaves the figure selected. If you’re not over a figure,\n",
    "then you are selecting a group of figures, and subsequent moves of the mouse\n",
    "typically resize a rectangle used to select several figures. Releasing the mouse\n",
    "button causes the figures inside the rectangle to be selected."
   ]
  },
  {
   "cell_type": "markdown",
   "metadata": {},
   "source": [
    "The initial code looks like this:"
   ]
  },
  {
   "cell_type": "markdown",
   "metadata": {},
   "source": [
    "```python\n",
    "self.selected_figure = None\n",
    "\n",
    "def mouse_down(self):\n",
    "    if self.is_over_a_figure():\n",
    "        self.selected_figure = self.find_figure()\n",
    "\n",
    "def mouse_move(self):\n",
    "    if self.selected_figure is not None:\n",
    "        self.move_figure()\n",
    "    else:\n",
    "        self.resize_selection_rectangle()\n",
    "\n",
    "def mouse_up(self):\n",
    "    if self.selected_figure is not None:    # duplicated specific condition with mouse_move\n",
    "        self.selected_figure = None\n",
    "    else:   # duplicated specific condition in mouse_move\n",
    "        self.select_figures_in_rectangle()\n",
    "```"
   ]
  },
  {
   "cell_type": "markdown",
   "metadata": {},
   "source": [
    "**Problem**: condition is likely to spread. Because, different conditions in `mouse_move` requires different behavior in `mouse_up`, resulting in inevitable different conditions in `mouse_up` to handle individual cases in `mouse_move`."
   ]
  },
  {
   "cell_type": "markdown",
   "metadata": {},
   "source": [
    "**Solution**: create 2 pluggable objects:\n",
    "* `SingleSelection` to behave (mouse move and mouse up) correctly when the mouse was pressed over a figure.\n",
    "* `MultipleSelection` to behave (mouse move and mouse up) correctly when the mouse was pressed over a blank area.\n",
    "\n",
    "```python\n",
    "self.selection_mode = None: SelectionMode\n",
    "\n",
    "def mouse_down(self):\n",
    "    if self.is_over_a_figure():\n",
    "        self.selection_mode = SingleSelection(self)\n",
    "    else:\n",
    "        self.selection_mode = MultipleSelection(self)\n",
    "\n",
    "def mouse_move(self):\n",
    "    self.selection_mode.mouse_move()\n",
    "\n",
    "def mouse_up(self):\n",
    "    self.selection_mode.mouse_up()\n",
    "```"
   ]
  },
  {
   "cell_type": "markdown",
   "metadata": {},
   "source": [
    "The `SingleSelection` and `MultipleSelection` are must implement the same interface defined by `SelectionMode`."
   ]
  },
  {
   "cell_type": "markdown",
   "metadata": {},
   "source": [
    "> [!TIP]\n",
    "> How?\n",
    ">\n",
    "> Replaced if-else with polymorphism. \n",
    "\n",
    "The code is now more readable and maintainable."
   ]
  }
 ],
 "metadata": {
  "language_info": {
   "name": "python"
  }
 },
 "nbformat": 4,
 "nbformat_minor": 2
}
