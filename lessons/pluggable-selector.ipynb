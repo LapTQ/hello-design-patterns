{
 "cells": [
  {
   "cell_type": "markdown",
   "metadata": {},
   "source": [
    "What do you do when you have ten subclasses of a class, each implementing\n",
    "only one method?"
   ]
  },
  {
   "cell_type": "code",
   "execution_count": null,
   "metadata": {},
   "outputs": [],
   "source": [
    "# a user-defined argument\n",
    "args__export_mode = 'csv'"
   ]
  },
  {
   "cell_type": "markdown",
   "metadata": {},
   "source": [
    "Solution 1: Use subclassing"
   ]
  },
  {
   "cell_type": "code",
   "execution_count": 2,
   "metadata": {},
   "outputs": [
    {
     "name": "stdout",
     "output_type": "stream",
     "text": [
      "Exporting CSV\n"
     ]
    }
   ],
   "source": [
    "from abc import ABC, abstractmethod\n",
    "\n",
    "\n",
    "class Report:\n",
    "\n",
    "    @abstractmethod\n",
    "    def export(self):\n",
    "        pass\n",
    "\n",
    "\n",
    "class ReportCSV(Report):\n",
    "\n",
    "    def export(self):\n",
    "        print(\"Exporting CSV\")\n",
    "\n",
    "\n",
    "class ReportHTML(Report):\n",
    "\n",
    "    def export(self):\n",
    "        print(\"Exporting HTML\")\n",
    "\n",
    "\n",
    "# our logic\n",
    "if args__export_mode == 'csv':\n",
    "    report = ReportCSV()\n",
    "else:\n",
    "    report = ReportHTML()\n",
    "\n",
    "report.export()"
   ]
  },
  {
   "cell_type": "markdown",
   "metadata": {},
   "source": [
    "Subclassing is a heavyweight mechanism for capturing such a\n",
    "small amount of variation. The overhead involved in maintaining the code can outweigh the benefit of separating them."
   ]
  },
  {
   "cell_type": "markdown",
   "metadata": {},
   "source": [
    "Solution 2: have a single class with a switch statement"
   ]
  },
  {
   "cell_type": "code",
   "execution_count": 4,
   "metadata": {},
   "outputs": [
    {
     "name": "stdout",
     "output_type": "stream",
     "text": [
      "Exporting CSV\n"
     ]
    }
   ],
   "source": [
    "class Report:\n",
    "\n",
    "    def export(self, format):\n",
    "        if format == 'csv':\n",
    "            self.export__csv()\n",
    "        elif format == 'html':\n",
    "            self.export__html()\n",
    "    \n",
    "    def export__csv(self):\n",
    "        print(\"Exporting CSV\")\n",
    "\n",
    "    def export__html(self):\n",
    "        print(\"Exporting HTML\")\n",
    "\n",
    "\n",
    "# our logic\n",
    "report = Report()\n",
    "report.export(format=args__export_mode)"
   ]
  },
  {
   "cell_type": "markdown",
   "metadata": {},
   "source": [
    "However, every time you add a new kind of printing, you have to be sure to add the print-\n",
    "ing method and change the switch statement."
   ]
  },
  {
   "cell_type": "markdown",
   "metadata": {},
   "source": [
    "Solution 3: Use Pluggable Selector pattern"
   ]
  },
  {
   "cell_type": "code",
   "execution_count": 1,
   "metadata": {},
   "outputs": [
    {
     "name": "stdout",
     "output_type": "stream",
     "text": [
      "Exporting CSV\n"
     ]
    }
   ],
   "source": [
    "class Report:\n",
    "\n",
    "    def export(self, format):\n",
    "        run_method = getattr(self, 'export__{}'.format(format)) # dynamically\n",
    "        run_method()\n",
    "    \n",
    "    def export__csv(self):\n",
    "        print(\"Exporting CSV\")\n",
    "\n",
    "    def export__html(self):\n",
    "        print(\"Exporting HTML\")\n",
    "\n",
    "\n",
    "# our logic\n",
    "report = Report()\n",
    "report.export(format=args__export_mode)"
   ]
  },
  {
   "cell_type": "markdown",
   "metadata": {},
   "source": [
    "Now there is still an ugly dependency between creators of reports and the\n",
    "names of the print methods, but at least you don’t have the case statement in\n",
    "there"
   ]
  }
 ],
 "metadata": {
  "kernelspec": {
   "display_name": ".venv",
   "language": "python",
   "name": "python3"
  },
  "language_info": {
   "codemirror_mode": {
    "name": "ipython",
    "version": 3
   },
   "file_extension": ".py",
   "mimetype": "text/x-python",
   "name": "python",
   "nbconvert_exporter": "python",
   "pygments_lexer": "ipython3",
   "version": "3.10.12"
  }
 },
 "nbformat": 4,
 "nbformat_minor": 2
}
