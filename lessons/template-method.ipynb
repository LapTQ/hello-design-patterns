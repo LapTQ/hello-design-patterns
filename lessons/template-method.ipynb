{
 "cells": [
  {
   "cell_type": "markdown",
   "metadata": {},
   "source": [
    "Imagine that you’re creating a data mining application that analyzes various formats (PDF, DOC, CSV)."
   ]
  },
  {
   "cell_type": "markdown",
   "metadata": {},
   "source": [
    "![](../assets/problem-template-method.png)"
   ]
  },
  {
   "cell_type": "markdown",
   "metadata": {},
   "source": [
    "All three classes have a lot of similar code: While the code for dealing with various data formats was entirely different in all classes, the code for data processing and analysis is almost identical. "
   ]
  },
  {
   "cell_type": "markdown",
   "metadata": {},
   "source": [
    "The Template Method pattern suggests that you break down an algorithm into a series of steps, turn these steps into methods, and put a series of calls to these methods inside a single template method:"
   ]
  },
  {
   "cell_type": "markdown",
   "metadata": {},
   "source": [
    "![](../assets/solution-en-template-method.png)"
   ]
  },
  {
   "cell_type": "markdown",
   "metadata": {},
   "source": [
    "We can create a base class. This class defines a template method consisting of a  default series of calls to various steps.\n",
    "\n",
    "As you can see, we’ve got two types of steps:\n",
    "\n",
    "1. abstract steps must be implemented by every subclass\n",
    "2. optional steps already have some default implementation, but still can be overridden if needed\n",
    "\n",
    "There’s another type of step, called ***hooks***. A hook is an optional step with an empty body. A template method would work even if a hook isn’t overridden. Usually, hooks are placed before and after crucial steps of algorithms, providing subclasses with additional extension points for an algorithm.\n",
    "\n"
   ]
  },
  {
   "cell_type": "markdown",
   "metadata": {},
   "source": [
    "> [!TIP]\n",
    "> When?\n",
    ">\n",
    "> Have several classes that contain almost identical algorithms with some minor differences. "
   ]
  }
 ],
 "metadata": {
  "language_info": {
   "name": "python"
  }
 },
 "nbformat": 4,
 "nbformat_minor": 2
}
