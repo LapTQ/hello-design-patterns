{
 "cells": [
  {
   "cell_type": "markdown",
   "metadata": {},
   "source": [
    "Depending on context,\n",
    "* Sometimes, comparing objects using references make sense: E.g., 2 instances of `Person` class are different even if they have the same attributes values.\n",
    "* Sometimes, comparing objects using values make sense: E.g., a 5$ is equal to another 5$.\n",
    "    > Objects that are equal due to the value of their attributes are called Value Bbjects."
   ]
  },
  {
   "cell_type": "markdown",
   "metadata": {},
   "source": [
    "One of the problems in programming is aliasing:\n",
    "\n",
    "```python\n",
    "five_dollars = Dollar(5)\n",
    "five_dollars.times(2)\n",
    "```\n",
    "The `.times()` method should return a new `Dollar` object (new reference) with the value of 10 instead of changing the value of the original object (same reference)."
   ]
  },
  {
   "cell_type": "markdown",
   "metadata": {},
   "source": [
    "To avoid aliasing, we can use Value Objects"
   ]
  },
  {
   "cell_type": "markdown",
   "metadata": {},
   "source": [
    "Value Objects have some implications:\n",
    "1. They are immutable:\n",
    "    * All operations on them return a new instance.\n",
    "    * Do not provide setters.\n",
    "2. They must override the `equals` method."
   ]
  },
  {
   "cell_type": "markdown",
   "metadata": {},
   "source": [
    "Small objects, such as points, monies, or ranges, are good examples of value objects."
   ]
  },
  {
   "cell_type": "markdown",
   "metadata": {},
   "source": [
    "However, the problem is that this `equals` method might be a mystery to any other JavaScript library:\n",
    "\n",
    "```javascript\n",
    "const somePoints = [new Point(2,3)];\n",
    "const p = new Point(2,3);\n",
    "assert.isFalse(somePoints.includes(p)); // not what I want\n",
    "\n",
    "//so I have to do this\n",
    "assert(somePoints.some(i => i.equals(p)));\n",
    "```"
   ]
  },
  {
   "cell_type": "markdown",
   "metadata": {},
   "source": [
    "This isn't an issue in Java because `Object.equals` is defined in the core library and all other libraries use it for comparisons (`==` is usually used only for primitives)."
   ]
  },
  {
   "cell_type": "markdown",
   "metadata": {},
   "source": [
    "# References\n",
    "\n",
    "1. https://github.com/LapTQ/hello-tdd/blob/main/lessons/003-equality-for-all.ipynb\n",
    "2. https://martinfowler.com/bliki/ValueObject.html"
   ]
  }
 ],
 "metadata": {
  "kernelspec": {
   "display_name": ".venv",
   "language": "python",
   "name": "python3"
  },
  "language_info": {
   "codemirror_mode": {
    "name": "ipython",
    "version": 3
   },
   "file_extension": ".py",
   "mimetype": "text/x-python",
   "name": "python",
   "nbconvert_exporter": "python",
   "pygments_lexer": "ipython3",
   "version": "3.10.12"
  }
 },
 "nbformat": 4,
 "nbformat_minor": 2
}
