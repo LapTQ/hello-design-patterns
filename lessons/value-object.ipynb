{
 "cells": [
  {
   "cell_type": "markdown",
   "metadata": {},
   "source": [
    "Scenario 1: We created an object representing, for example, a neural network. Then we want to give it to an optimizer, wishing the optimizer to update the network's parameters.\n",
    "\n",
    "Scenario 2: We created an object representing, for example, a cash. We wish that there are a lot of 5 VND objects out there, and when we receive a cash from a friend we are confident that this 5 VND object is identical to any 5 VND in our wallet. It means, previously when the friend kept it, he couldn't modify the value of that cash. The 5 VND in this scenario is called a **Value Object**.\n",
    "\n"
   ]
  },
  {
   "cell_type": "markdown",
   "metadata": {},
   "source": [
    "***Value object*** is a ***small*** object that represents a ***simple*** entity whose equality is not based on **identity**: i.e. two value objects are equal when they have the same value, not necessarily being the same object."
   ]
  },
  {
   "cell_type": "markdown",
   "metadata": {},
   "source": [
    "> [!TIP]\n",
    "> Why?\n",
    "> \n",
    "> Being small, one can have multiple copies of the same value object that represent the same entity: it is often simpler to create a new object rather than rely on a single instance and use references to it."
   ]
  },
  {
   "cell_type": "markdown",
   "metadata": {},
   "source": [
    "One of the problems in programming is aliasing:\n",
    "\n",
    "```python\n",
    "five_dollars = Dollar(5)\n",
    "five_dollars.times(2)\n",
    "```\n",
    "The `.times()` method should return a new `Dollar` object (new reference) with the value of 10 instead of changing the value of the original object (same reference)."
   ]
  },
  {
   "cell_type": "markdown",
   "metadata": {},
   "source": [
    "Value Objects have some implications:\n",
    "1. They are immutable:\n",
    "    * All operations on them return a new instance.\n",
    "    * Do not provide setters.\n",
    "2. They must override the `equals` method."
   ]
  },
  {
   "cell_type": "markdown",
   "metadata": {},
   "source": [
    "However, the problem is that this `equals` method might be a mystery to any other JavaScript library:\n",
    "\n",
    "```javascript\n",
    "const somePoints = [new Point(2,3)];\n",
    "const p = new Point(2,3);\n",
    "assert.isFalse(somePoints.includes(p)); // not what I want\n",
    "\n",
    "//so I have to do this\n",
    "assert(somePoints.some(i => i.equals(p)));\n",
    "```"
   ]
  },
  {
   "cell_type": "markdown",
   "metadata": {},
   "source": [
    "This isn't an issue in Java because `Object.equals` is defined in the core library and all other libraries use it for comparisons (`==` is usually used only for primitives)."
   ]
  },
  {
   "cell_type": "markdown",
   "metadata": {},
   "source": [
    "> [!TIP]\n",
    "> When?\n",
    ">\n",
    "> Represent ***simple***, ***small*** entities where it's ***more convenient to create new*** objects rather than rely on a single instance and use references to it."
   ]
  },
  {
   "cell_type": "markdown",
   "metadata": {},
   "source": [
    "# References\n",
    "\n",
    "1. https://github.com/LapTQ/hello-tdd/blob/main/lessons/003-equality-for-all.ipynb\n",
    "2. https://en.wikipedia.org/wiki/Value_object\n",
    "2. https://martinfowler.com/bliki/ValueObject.html"
   ]
  }
 ],
 "metadata": {
  "kernelspec": {
   "display_name": ".venv",
   "language": "python",
   "name": "python3"
  },
  "language_info": {
   "codemirror_mode": {
    "name": "ipython",
    "version": 3
   },
   "file_extension": ".py",
   "mimetype": "text/x-python",
   "name": "python",
   "nbconvert_exporter": "python",
   "pygments_lexer": "ipython3",
   "version": "3.10.12"
  }
 },
 "nbformat": 4,
 "nbformat_minor": 2
}
